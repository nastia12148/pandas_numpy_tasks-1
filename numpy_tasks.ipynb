{
  "nbformat": 4,
  "nbformat_minor": 0,
  "metadata": {
    "colab": {
      "name": "pandas_numpy_tasks.ipynb",
      "provenance": [],
      "authorship_tag": "ABX9TyMdcYRb2mc61d7fIUS4BMIW",
      "include_colab_link": true
    },
    "kernelspec": {
      "name": "python3",
      "display_name": "Python 3"
    },
    "language_info": {
      "name": "python"
    }
  },
  "cells": [
    {
      "cell_type": "markdown",
      "metadata": {
        "id": "view-in-github",
        "colab_type": "text"
      },
      "source": [
        "<a href=\"https://colab.research.google.com/github/nastia12148/pandas_numpy_tasks-1/blob/main/numpy_tasks.ipynb\" target=\"_parent\"><img src=\"https://colab.research.google.com/assets/colab-badge.svg\" alt=\"Open In Colab\"/></a>"
      ]
    },
    {
      "cell_type": "markdown",
      "source": [
        "### Упражнения по Numpy"
      ],
      "metadata": {
        "id": "M7jEPwRgB4oD"
      }
    },
    {
      "cell_type": "code",
      "execution_count": null,
      "metadata": {
        "id": "9ApFc26pBtK9"
      },
      "outputs": [],
      "source": [
        "import numpy as np"
      ]
    },
    {
      "cell_type": "markdown",
      "source": [
        "1. Дан случайный массив, поменять знак у элементов, значения которых между 3 и 8 (не включительно)"
      ],
      "metadata": {
        "id": "oJ_tQ1YtCPzk"
      }
    },
    {
      "cell_type": "code",
      "source": [
        "n = int(input(\"Input the size of array:\"))\n",
        "k = int(input(\"Input max possible integer value in array:\"))\n",
        "\n",
        "mas = np.random.randint(0,k,n)\n",
        "\n",
        "print(\"input array: \" + str(mas))\n",
        "\n",
        "for i in range(n):\n",
        "    if (mas[i] > 3) & (mas[i] < 8):\n",
        "        mas[i] = - mas[i]\n",
        "\n",
        "\n",
        "print(\"output massive: \" + str(mas))"
      ],
      "metadata": {
        "id": "boOz2qfECWbc"
      },
      "execution_count": null,
      "outputs": []
    },
    {
      "cell_type": "markdown",
      "source": [
        "2. Заменить (первый) максимальный элемент случайного массива на 0"
      ],
      "metadata": {
        "id": "i04bjPL0TaGZ"
      }
    },
    {
      "cell_type": "code",
      "source": [
        "n = int(input(\"Input the size of array:\"))\n",
        "k = int(input(\"Input max possible integer value in massive:\"))\n",
        "\n",
        "mas = np.random.randint(0,k,n)\n",
        "\n",
        "print(\"input array: \" + str(mas))\n",
        "\n",
        "max_elem = mas[0]\n",
        "max_elem_ind = 0\n",
        "\n",
        "for i in range(n):\n",
        "    if mas[i] > max_elem:\n",
        "        max_elem = mas[i]\n",
        "        max_elem_ind = i\n",
        "\n",
        "mas[max_elem_ind] = 0\n",
        "\n",
        "print(\"output array: \" + str(mas))"
      ],
      "metadata": {
        "id": "Z58pjBunTboW"
      },
      "execution_count": null,
      "outputs": []
    },
    {
      "cell_type": "markdown",
      "source": [
        "3. Построить прямое произведение массивов (все комбинации с каждым элементом). На вход подается двумерный массив"
      ],
      "metadata": {
        "id": "ai48gebrWYZp"
      }
    },
    {
      "cell_type": "code",
      "source": [
        "def deck_mul(arrays):\n",
        "    arrays = tuple(arrays)\n",
        "    shape = map(len, arrays)\n",
        "\n",
        "    n_pairs = np.indices(shape, dtype=int)\n",
        "    n_pairs = n_pairs.reshape(len(arrays), -1).T\n",
        "\n",
        "    for n, arr in enumerate(arrays):\n",
        "        n_pairs[:, n] = arrays[n][n_pairs[:, n]]\n",
        "\n",
        "    return n_pairs\n",
        "\n",
        "lines = int(input(\"Input amount of lines in array:\"))\n",
        "columns = int(input(\"Input amount of columns in array:\"))\n",
        "\n",
        "mas = np.random.randint(10,size = (lines,columns))\n",
        "\n",
        "print(mas)\n",
        "\n",
        "print(deck_mul(mas))"
      ],
      "metadata": {
        "id": "e7jgKP1fvU1K"
      },
      "execution_count": null,
      "outputs": []
    },
    {
      "cell_type": "markdown",
      "source": [
        "4. Даны 2 массива A (8x3) и B (2x2). Найти строки в A, которые содержат элементы из каждой строки в B, независимо от порядка элементов в B"
      ],
      "metadata": {
        "id": "3TGkghmtNsG0"
      }
    },
    {
      "cell_type": "code",
      "source": [
        "mas_A = np.random.randint(6,size = (8,3))\n",
        "mas_B = np.random.randint(6,size = (2,2))\n",
        "\n",
        "print(mas_A)\n",
        "print(mas_B)\n",
        "\n",
        "mas_count = np.array([0,0,0,0,0,0,0,0])\n",
        "\n",
        "\n",
        "for i in range(mas_A.shape[0]):\n",
        "    k_1: int = 0\n",
        "    k_2: int = 0\n",
        "    for j in range(mas_A.shape[1]):\n",
        "        for p in range(2):\n",
        "            if(mas_A[i][j]==mas_B[0][p]):\n",
        "                k_1+=1\n",
        "            if(mas_A[i][j]==mas_B[1][p]):\n",
        "                k_2+=1\n",
        "    if(k_1>=1) & (k_2>=1):\n",
        "        mas_count[i] = i+1\n",
        "\n",
        "print(\"Numbers of rows with elements of ever B_mas row:\")\n",
        "for i in range(mas_A.shape[0]):\n",
        "    if(mas_count[i]!=0):\n",
        "        print(mas_count[i])"
      ],
      "metadata": {
        "id": "glUVV-UuNvc8"
      },
      "execution_count": null,
      "outputs": []
    },
    {
      "cell_type": "markdown",
      "source": [
        "5. Дана 10x3 матрица, найти строки из неравных значений (например строка [2,2,3] остается, строка [3,3,3] удаляется)"
      ],
      "metadata": {
        "id": "9yepoaIelrAa"
      }
    },
    {
      "cell_type": "code",
      "source": [
        "matrix = list(np.random.randint(3,size = (10,3)))\n",
        "print(matrix)\n",
        "\n",
        "i=9\n",
        "\n",
        "while i!=-1:\n",
        "    if(len(set(matrix[i]))<=1):\n",
        "        matrix.pop(i)\n",
        "    i-=1\n",
        "\n",
        "print(matrix)"
      ],
      "metadata": {
        "id": "8xmmNGc_u0t8"
      },
      "execution_count": null,
      "outputs": []
    },
    {
      "cell_type": "markdown",
      "source": [
        "6.Дан двумерный массив. Удалить те строки, которые повторяются"
      ],
      "metadata": {
        "id": "7hx8sq_Cu5Rt"
      }
    },
    {
      "cell_type": "code",
      "source": [
        "matrix = np.random.randint(2,size = (10,3))\n",
        "print(matrix)\n",
        "\n",
        "matrix = np.array(matrix)\n",
        "\n",
        "matrix, idx = np.unique(matrix, axis=0, return_index=True)\n",
        "res = matrix[idx.argsort()]\n",
        "\n",
        "print(res)"
      ],
      "metadata": {
        "id": "yAJTXLdvvCGT"
      },
      "execution_count": null,
      "outputs": []
    },
    {
      "cell_type": "markdown",
      "source": [
        "Для каждой из следующих задач (1-5) нужно привести 2 реализации – одна без использования numpy (cчитайте, что там, где на входе или выходе должны быть numpy array, будут просто списки), а вторая полностью векторизованная с использованием numpy (без использования питоновских циклов/map/list comprehension).\n",
        "\n",
        "**Замечание 1.** Можно считать, что все указанные объекты непустые (к примеру, в задаче 1 на диагонали матрицы есть ненулевые элементы).\n",
        "\n",
        "**Замечание 2.** Для большинства задач решение занимает не больше 1-2 строк."
      ],
      "metadata": {
        "id": "5Ux_awYi_c8J"
      }
    },
    {
      "cell_type": "markdown",
      "source": [
        "**Задача 1:** Подсчитать произведение ненулевых элементов на диагонали прямоугольной матрицы.\n",
        "Например, для X = np.array([[1, 0, 1], [2, 0, 2], [3, 0, 3], [4, 4, 4]]) ответ 3."
      ],
      "metadata": {
        "id": "FNWA8Hh4_i7Z"
      }
    },
    {
      "cell_type": "code",
      "source": [
        "rows:int = int(input(\"Input number of rows in matrix:\"))\n",
        "columns:int = int(input(\"Input number of columns in matrix:\"))\n",
        "\n",
        "matrix = np.random.randint(3,size = (rows,columns))\n",
        "print(matrix)\n",
        "\n",
        "#realisation without NumPy\n",
        "matrix = list(matrix)\n",
        "mul:int = 1\n",
        "\n",
        "for i in range(len(matrix)):\n",
        "    if(matrix[i][i]!= 0):\n",
        "        mul*=matrix[i][i]\n",
        "\n",
        "print(mul)\n",
        "\n",
        "#realisation with NumPy\n",
        "\n",
        "matrix = np.array(matrix)\n",
        "diagonal_ = np.array(matrix.diagonal())\n",
        "print(np.prod(diagonal_[diagonal_!=0]))"
      ],
      "metadata": {
        "id": "FEft8mRC_qlz"
      },
      "execution_count": null,
      "outputs": []
    },
    {
      "cell_type": "markdown",
      "source": [
        "**Задача 2:** Даны два вектора x и y. Проверить, задают ли они одно и то же мультимножество.\n",
        "Например, для x = np.array([1, 2, 2, 4]), y = np.array([4, 2, 1, 2]) ответ True."
      ],
      "metadata": {
        "id": "Jo1fD9qWIKAB"
      }
    },
    {
      "cell_type": "code",
      "source": [
        "pip install multiset"
      ],
      "metadata": {
        "id": "o43V3yAxXY_a"
      },
      "execution_count": null,
      "outputs": []
    },
    {
      "cell_type": "code",
      "source": [
        "from multiset import Multiset\n",
        "\n",
        "x = list([1,1,2,5,7,8])\n",
        "y = list([2,5,8,7,1])\n",
        "\n",
        "#realisation without NumPy\n",
        "\n",
        "set_x = Multiset(x)\n",
        "set_y = Multiset(y)\n",
        "\n",
        "print(set_x==set_y)\n",
        "\n",
        "#realisation with NumPy\n",
        "\n",
        "x = np.array(x)\n",
        "y = np.array(y)\n",
        "\n",
        "np.sort(x)\n",
        "np.sort(y)\n",
        "\n",
        "print(x == y)"
      ],
      "metadata": {
        "id": "9iNEuo6fXP7D"
      },
      "execution_count": null,
      "outputs": []
    },
    {
      "cell_type": "markdown",
      "source": [
        "**Задача 3:** Найти максимальный элемент в векторе x среди элементов, перед которыми стоит ноль. Например, для x = np.array([6, 2, 0, 3, 0, 0, 5, 7, 0]) ответ 5."
      ],
      "metadata": {
        "id": "qbqAXF4iasKy"
      }
    },
    {
      "cell_type": "code",
      "source": [
        "x = list([6, 2, 0, 3, 0, 0, 5, 7, 0])\n",
        "\n",
        "#realisation without NumPy\n",
        "\n",
        "k = list([])\n",
        "for i in range(len(x)-1):\n",
        "    if (x[i] == 0):\n",
        "        k.append(x[i+1])\n",
        "\n",
        "\n",
        "print(max(k))\n",
        "\n",
        "#realisation with NumPy\n",
        "\n",
        "x = np.array(x)\n",
        "print(np.max(x[1:][(x==0)[:-1]]))"
      ],
      "metadata": {
        "id": "OkTSg-z9bCyk"
      },
      "execution_count": null,
      "outputs": []
    },
    {
      "cell_type": "markdown",
      "source": [
        "**Задача 4:** Реализовать кодирование длин серий (Run-length encoding). Для некоторого вектора x необходимо вернуть кортеж из двух векторов одинаковой длины. Первый содержит числа, а второй - сколько раз их нужно повторить.\n",
        "Например, для x = np.array([2, 2, 2, 3, 3, 3, 5]) ответ (np.array([2, 3, 5]), np.array([3, 3, 1]))."
      ],
      "metadata": {
        "id": "OM2jf6kFf_sb"
      }
    },
    {
      "cell_type": "code",
      "source": [
        ""
      ],
      "metadata": {
        "id": "BSVM2kWWh1a-"
      },
      "execution_count": 30,
      "outputs": []
    }
  ]
}