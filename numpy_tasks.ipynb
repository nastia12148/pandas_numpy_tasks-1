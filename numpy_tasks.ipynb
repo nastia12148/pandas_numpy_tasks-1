{
  "nbformat": 4,
  "nbformat_minor": 0,
  "metadata": {
    "colab": {
      "name": "pandas_numpy_tasks.ipynb",
      "provenance": [],
      "authorship_tag": "ABX9TyM1Gg8Gb/+L88Gz1tBNJSM2"
    },
    "kernelspec": {
      "name": "python3",
      "display_name": "Python 3"
    },
    "language_info": {
      "name": "python"
    }
  },
  "cells": [
    {
      "cell_type": "markdown",
      "source": [
        "### Упражнения по Numpy"
      ],
      "metadata": {
        "id": "M7jEPwRgB4oD"
      }
    },
    {
      "cell_type": "code",
      "execution_count": 2,
      "metadata": {
        "id": "9ApFc26pBtK9"
      },
      "outputs": [],
      "source": [
        "import numpy as np"
      ]
    },
    {
      "cell_type": "markdown",
      "source": [
        "1. Дан случайный массив, поменять знак у элементов, значения которых между 3 и 8 (не включительно)"
      ],
      "metadata": {
        "id": "oJ_tQ1YtCPzk"
      }
    },
    {
      "cell_type": "code",
      "source": [
        "n = int(input(\"Input the size of array:\"))\n",
        "k = int(input(\"Input max possible integer value in array:\"))\n",
        "\n",
        "mas = np.random.randint(0,k,n)\n",
        "\n",
        "print(\"input array: \" + str(mas))\n",
        "\n",
        "for i in range(n):\n",
        "    if (mas[i] > 3) & (mas[i] < 8):\n",
        "        mas[i] = - mas[i]\n",
        "\n",
        "\n",
        "print(\"output massive: \" + str(mas))"
      ],
      "metadata": {
        "id": "boOz2qfECWbc"
      },
      "execution_count": null,
      "outputs": []
    },
    {
      "cell_type": "markdown",
      "source": [
        "2. Заменить (первый) максимальный элемент случайного массива на 0"
      ],
      "metadata": {
        "id": "i04bjPL0TaGZ"
      }
    },
    {
      "cell_type": "code",
      "source": [
        "n = int(input(\"Input the size of array:\"))\n",
        "k = int(input(\"Input max possible integer value in massive:\"))\n",
        "\n",
        "mas = np.random.randint(0,k,n)\n",
        "\n",
        "print(\"input array: \" + str(mas))\n",
        "\n",
        "max_elem = mas[0]\n",
        "max_elem_ind = 0\n",
        "\n",
        "for i in range(n):\n",
        "    if mas[i] > max_elem:\n",
        "        max_elem = mas[i]\n",
        "        max_elem_ind = i\n",
        "\n",
        "mas[max_elem_ind] = 0\n",
        "\n",
        "print(\"output array: \" + str(mas))"
      ],
      "metadata": {
        "id": "Z58pjBunTboW"
      },
      "execution_count": null,
      "outputs": []
    },
    {
      "cell_type": "markdown",
      "source": [
        "3. Построить прямое произведение массивов (все комбинации с каждым элементом). На вход подается двумерный массив"
      ],
      "metadata": {
        "id": "ai48gebrWYZp"
      }
    }
  ]
}