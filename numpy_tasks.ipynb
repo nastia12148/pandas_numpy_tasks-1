{
  "nbformat": 4,
  "nbformat_minor": 0,
  "metadata": {
    "colab": {
      "name": "pandas_numpy_tasks.ipynb",
      "provenance": [],
      "authorship_tag": "ABX9TyOFDrL/Zr6R5ldZZY5IKVJm"
    },
    "kernelspec": {
      "name": "python3",
      "display_name": "Python 3"
    },
    "language_info": {
      "name": "python"
    }
  },
  "cells": [
    {
      "cell_type": "markdown",
      "source": [
        "### Упражнения по Numpy"
      ],
      "metadata": {
        "id": "M7jEPwRgB4oD"
      }
    },
    {
      "cell_type": "code",
      "execution_count": 19,
      "metadata": {
        "id": "9ApFc26pBtK9"
      },
      "outputs": [],
      "source": [
        "import numpy as np"
      ]
    },
    {
      "cell_type": "markdown",
      "source": [
        "1. Дан случайный массив, поменять знак у элементов, значения которых между 3 и 8 (не включительно)"
      ],
      "metadata": {
        "id": "oJ_tQ1YtCPzk"
      }
    },
    {
      "cell_type": "code",
      "source": [
        "n = int(input(\"Input the size of array:\"))\n",
        "k = int(input(\"Input max possible integer value in array:\"))\n",
        "\n",
        "mas = np.random.randint(0,k,n)\n",
        "\n",
        "print(\"input array: \" + str(mas))\n",
        "\n",
        "for i in range(n):\n",
        "    if (mas[i] > 3) & (mas[i] < 8):\n",
        "        mas[i] = - mas[i]\n",
        "\n",
        "\n",
        "print(\"output massive: \" + str(mas))"
      ],
      "metadata": {
        "id": "boOz2qfECWbc"
      },
      "execution_count": null,
      "outputs": []
    },
    {
      "cell_type": "markdown",
      "source": [
        "2. Заменить (первый) максимальный элемент случайного массива на 0"
      ],
      "metadata": {
        "id": "i04bjPL0TaGZ"
      }
    },
    {
      "cell_type": "code",
      "source": [
        "n = int(input(\"Input the size of array:\"))\n",
        "k = int(input(\"Input max possible integer value in massive:\"))\n",
        "\n",
        "mas = np.random.randint(0,k,n)\n",
        "\n",
        "print(\"input array: \" + str(mas))\n",
        "\n",
        "max_elem = mas[0]\n",
        "max_elem_ind = 0\n",
        "\n",
        "for i in range(n):\n",
        "    if mas[i] > max_elem:\n",
        "        max_elem = mas[i]\n",
        "        max_elem_ind = i\n",
        "\n",
        "mas[max_elem_ind] = 0\n",
        "\n",
        "print(\"output array: \" + str(mas))"
      ],
      "metadata": {
        "id": "Z58pjBunTboW"
      },
      "execution_count": null,
      "outputs": []
    },
    {
      "cell_type": "markdown",
      "source": [
        "3. Построить прямое произведение массивов (все комбинации с каждым элементом). На вход подается двумерный массив"
      ],
      "metadata": {
        "id": "ai48gebrWYZp"
      }
    },
    {
      "cell_type": "code",
      "source": [
        "def deck_mul(arrays):\n",
        "    arrays = tuple(arrays)\n",
        "    shape = map(len, arrays)\n",
        "\n",
        "    n_pairs = np.indices(shape, dtype=int)\n",
        "    n_pairs = n_pairs.reshape(len(arrays), -1).T\n",
        "\n",
        "    for n, arr in enumerate(arrays):\n",
        "        n_pairs[:, n] = arrays[n][n_pairs[:, n]]\n",
        "\n",
        "    return n_pairs\n",
        "\n",
        "lines = int(input(\"Input amount of lines in array:\"))\n",
        "columns = int(input(\"Input amount of columns in array:\"))\n",
        "\n",
        "mas = np.random.randint(10,size = (lines,columns))\n",
        "\n",
        "print(mas)\n",
        "\n",
        "print(deck_mul(mas))"
      ],
      "metadata": {
        "id": "e7jgKP1fvU1K"
      },
      "execution_count": null,
      "outputs": []
    },
    {
      "cell_type": "markdown",
      "source": [
        "4. Даны 2 массива A (8x3) и B (2x2). Найти строки в A, которые содержат элементы из каждой строки в B, независимо от порядка элементов в B"
      ],
      "metadata": {
        "id": "3TGkghmtNsG0"
      }
    },
    {
      "cell_type": "code",
      "source": [
        "mas_A = np.random.randint(6,size = (8,3))\n",
        "mas_B = np.random.randint(6,size = (2,2))\n",
        "\n",
        "print(mas_A)\n",
        "print(mas_B)\n",
        "\n",
        "mas_count = np.array([0,0,0,0,0,0,0,0])\n",
        "\n",
        "\n",
        "for i in range(mas_A.shape[0]):\n",
        "    k_1: int = 0\n",
        "    k_2: int = 0\n",
        "    for j in range(mas_A.shape[1]):\n",
        "        for p in range(2):\n",
        "            if(mas_A[i][j]==mas_B[0][p]):\n",
        "                k_1+=1\n",
        "            if(mas_A[i][j]==mas_B[1][p]):\n",
        "                k_2+=1\n",
        "    if(k_1>=1) & (k_2>=1):\n",
        "        mas_count[i] = i+1\n",
        "\n",
        "print(\"Numbers of rows with elements of ever B_mas row:\")\n",
        "for i in range(mas_A.shape[0]):\n",
        "    if(mas_count[i]!=0):\n",
        "        print(mas_count[i])"
      ],
      "metadata": {
        "id": "glUVV-UuNvc8"
      },
      "execution_count": null,
      "outputs": []
    },
    {
      "cell_type": "markdown",
      "source": [
        "5. Дана 10x3 матрица, найти строки из неравных значений (например строка [2,2,3] остается, строка [3,3,3] удаляется)"
      ],
      "metadata": {
        "id": "9yepoaIelrAa"
      }
    },
    {
      "cell_type": "code",
      "source": [
        "matrix = list(np.random.randint(3,size = (10,3)))\n",
        "print(matrix)\n",
        "\n",
        "i=9\n",
        "\n",
        "while i!=-1:\n",
        "    if(len(set(matrix[i]))<=1):\n",
        "        matrix.pop(i)\n",
        "    i-=1\n",
        "\n",
        "print(matrix)"
      ],
      "metadata": {
        "id": "8xmmNGc_u0t8"
      },
      "execution_count": null,
      "outputs": []
    },
    {
      "cell_type": "markdown",
      "source": [
        "6.Дан двумерный массив. Удалить те строки, которые повторяются"
      ],
      "metadata": {
        "id": "7hx8sq_Cu5Rt"
      }
    },
    {
      "cell_type": "code",
      "source": [
        "matrix = np.random.randint(2,size = (10,3))\n",
        "print(matrix)\n",
        "\n",
        "matrix = np.array(matrix)\n",
        "\n",
        "matrix, idx = np.unique(matrix, axis=0, return_index=True)\n",
        "res = matrix[idx.argsort()]\n",
        "\n",
        "print(res)"
      ],
      "metadata": {
        "id": "yAJTXLdvvCGT"
      },
      "execution_count": null,
      "outputs": []
    },
    {
      "cell_type": "markdown",
      "source": [
        "Для каждой из следующих задач (1-5) нужно привести 2 реализации – одна без использования numpy (cчитайте, что там, где на входе или выходе должны быть numpy array, будут просто списки), а вторая полностью векторизованная с использованием numpy (без использования питоновских циклов/map/list comprehension).\n",
        "\n",
        "**Замечание 1.** Можно считать, что все указанные объекты непустые (к примеру, в задаче 1 на диагонали матрицы есть ненулевые элементы).\n",
        "\n",
        "**Замечание 2.** Для большинства задач решение занимает не больше 1-2 строк."
      ],
      "metadata": {
        "id": "5Ux_awYi_c8J"
      }
    },
    {
      "cell_type": "markdown",
      "source": [
        "**Задача 1:** Подсчитать произведение ненулевых элементов на диагонали прямоугольной матрицы.\n",
        "Например, для X = np.array([[1, 0, 1], [2, 0, 2], [3, 0, 3], [4, 4, 4]]) ответ 3."
      ],
      "metadata": {
        "id": "FNWA8Hh4_i7Z"
      }
    },
    {
      "cell_type": "code",
      "source": [
        "rows:int = int(input(\"Input number of rows in matrix:\"))\n",
        "columns:int = int(input(\"Input number of columns in matrix:\"))\n",
        "\n",
        "matrix = np.random.randint(3,size = (rows,columns))\n",
        "print(matrix)\n",
        "\n",
        "#realisation without NumPy\n",
        "matrix = list(matrix)\n",
        "mul:int = 1\n",
        "\n",
        "for i in range(len(matrix)):\n",
        "    if(matrix[i][i]!= 0):\n",
        "        mul*=matrix[i][i]\n",
        "\n",
        "print(mul)\n",
        "\n",
        "#realisation with NumPy\n",
        "\n",
        "matrix = np.array(matrix)\n",
        "diagonal_ = np.array(matrix.diagonal())\n",
        "print(np.prod(diagonal_[diagonal_!=0]))"
      ],
      "metadata": {
        "id": "FEft8mRC_qlz"
      },
      "execution_count": null,
      "outputs": []
    },
    {
      "cell_type": "markdown",
      "source": [
        "**Задача 2:** Даны два вектора x и y. Проверить, задают ли они одно и то же мультимножество.\n",
        "Например, для x = np.array([1, 2, 2, 4]), y = np.array([4, 2, 1, 2]) ответ True."
      ],
      "metadata": {
        "id": "Jo1fD9qWIKAB"
      }
    },
    {
      "cell_type": "code",
      "source": [
        "pip install multiset"
      ],
      "metadata": {
        "id": "o43V3yAxXY_a"
      },
      "execution_count": null,
      "outputs": []
    },
    {
      "cell_type": "code",
      "source": [
        "from multiset import Multiset\n",
        "\n",
        "x = list([1,1,2,5,7,8])\n",
        "y = list([2,5,8,7,1])\n",
        "\n",
        "#realisation without NumPy\n",
        "\n",
        "set_x = Multiset(x)\n",
        "set_y = Multiset(y)\n",
        "\n",
        "print(set_x==set_y)\n",
        "\n",
        "#realisation with NumPy\n",
        "\n",
        "x = np.array(x)\n",
        "y = np.array(y)\n",
        "\n",
        "np.sort(x)\n",
        "np.sort(y)\n",
        "\n",
        "print(x == y)"
      ],
      "metadata": {
        "id": "9iNEuo6fXP7D"
      },
      "execution_count": null,
      "outputs": []
    },
    {
      "cell_type": "markdown",
      "source": [
        "**Задача 3:** Найти максимальный элемент в векторе x среди элементов, перед которыми стоит ноль. Например, для x = np.array([6, 2, 0, 3, 0, 0, 5, 7, 0]) ответ 5."
      ],
      "metadata": {
        "id": "qbqAXF4iasKy"
      }
    },
    {
      "cell_type": "code",
      "source": [
        "x = list([6, 2, 0, 3, 0, 0, 5, 7, 0])\n",
        "\n",
        "#realisation without NumPy\n",
        "\n",
        "k = list([])\n",
        "for i in range(len(x)-1):\n",
        "    if (x[i] == 0):\n",
        "        k.append(x[i+1])\n",
        "\n",
        "\n",
        "print(max(k))\n",
        "\n",
        "#realisation with NumPy\n",
        "\n",
        "x = np.array(x)\n",
        "print(np.max(x[1:][(x==0)[:-1]]))"
      ],
      "metadata": {
        "id": "OkTSg-z9bCyk"
      },
      "execution_count": null,
      "outputs": []
    },
    {
      "cell_type": "markdown",
      "source": [
        "**Задача 4:** Реализовать кодирование длин серий (Run-length encoding). Для некоторого вектора x необходимо вернуть кортеж из двух векторов одинаковой длины. Первый содержит числа, а второй - сколько раз их нужно повторить.\n",
        "Например, для x = np.array([2, 2, 2, 3, 3, 3, 5]) ответ (np.array([2, 3, 5]), np.array([3, 3, 1]))."
      ],
      "metadata": {
        "id": "OM2jf6kFf_sb"
      }
    },
    {
      "cell_type": "code",
      "source": [
        "x = list([0,0,4,4,4,0,5,5,7,7])\n",
        "\n",
        "#realisation without NumPy\n",
        "\n",
        "rle_1 = list([])\n",
        "rle_2 = list([])\n",
        "k:int = 1\n",
        "\n",
        "for i in range(0,len(x)-1):\n",
        "    if(x[i] == x[i+1]):\n",
        "        k+=1\n",
        "    else:\n",
        "        rle_1.append(x[i])\n",
        "        rle_2.append(k)\n",
        "        k=1\n",
        "\n",
        "rle_1.append(x[len(x)-1])\n",
        "rle_2.append(k)\n",
        "\n",
        "rle = [rle_1,rle_2]\n",
        "\n",
        "print(rle)\n",
        "\n",
        "#realisation with NumPy\n",
        "\n",
        "x = np.array(x)\n",
        "\n",
        "\n",
        "def run_length_encoding_numpy(seq_array):\n",
        "    rle_1 = []\n",
        "    rle_2 = []\n",
        "    change = (seq_array[1:] != seq_array[:-1])\n",
        "    k = np.append(np.where(change), len(seq_array) - 1)\n",
        "    counter = np.diff(np.append(-1, k))\n",
        "\n",
        "    for i in range(0, len(counter)):\n",
        "        rle_1.append(seq_array[k][i])\n",
        "        rle_2.append(counter[i])\n",
        "\n",
        "    rle = [rle_1, rle_2]\n",
        "\n",
        "    return rle\n",
        "\n",
        "print(run_length_encoding_numpy(x))"
      ],
      "metadata": {
        "id": "BSVM2kWWh1a-"
      },
      "execution_count": null,
      "outputs": []
    },
    {
      "cell_type": "markdown",
      "source": [
        "**Задача 5:** Даны две выборки объектов - X и Y. Вычислить матрицу евклидовых расстояний между объектами. Сравните с функцией scipy.spatial.distance.cdist по скорости работы."
      ],
      "metadata": {
        "id": "S-lZZDKkWDDH"
      }
    },
    {
      "cell_type": "code",
      "source": [
        "from math import sqrt, dist\n",
        "from scipy.spatial import distance\n",
        "import time"
      ],
      "metadata": {
        "id": "T803_c-NWI5w"
      },
      "execution_count": null,
      "outputs": []
    },
    {
      "cell_type": "code",
      "source": [
        "#realisation without NumPy\n",
        "\n",
        "def python_euclid(X, Y):\n",
        "    euclid = [[0 for j in range(len(Y))] for i in range(len(X))]\n",
        "\n",
        "    for i in range(0, len(X)):\n",
        "        for j in range(0, len(Y)):\n",
        "            euclid[i][j] = math.sqrt((math.dist(X[i], Y[j])) ** 2)\n",
        "\n",
        "    return euclid\n",
        "\n",
        "#realisation with NumPy\n",
        "\n",
        "\n",
        "def numpy_euclid(X,Y):\n",
        "\n",
        "    euclid = np.empty(shape=(len(X), len(Y)))\n",
        "\n",
        "    for i in range(0, len(X)):\n",
        "        for j in range(0, len(Y)):\n",
        "            euclid[i][j] = np.linalg.norm(X[i] - Y[j])\n",
        "\n",
        "    return euclid\n",
        "\n",
        "\n",
        "#realisation with scipy\n",
        "\n",
        "def scipy_euclid(X, Y):\n",
        "    return distance.cdist(X, Y, 'euclidean')\n",
        "\n",
        "#time tests\n",
        "\n",
        "X = np.random.randint(0,1000,size=(100,200))\n",
        "Y = np.random.randint(0,1000,size=(200,200))\n",
        "\n",
        "start_time_1 = time.time()\n",
        "python_euclid(X,Y)\n",
        "print(\"--- %s seconds ---\" % (time.time() - start_time_1))\n",
        "\n",
        "start_time_2 = time.time()\n",
        "numpy_euclid(X,Y)\n",
        "print(\"--- %s seconds ---\" % (time.time() - start_time_2))\n",
        "\n",
        "start_time_3 = time.time()\n",
        "scipy_euclid(X,Y)\n",
        "print(\"--- %s seconds ---\" % (time.time() - start_time_3))"
      ],
      "metadata": {
        "id": "tKlEIkq9x7nJ"
      },
      "execution_count": null,
      "outputs": []
    },
    {
      "cell_type": "markdown",
      "source": [
        "***Задача 6: CrunchieMunchies ***\n",
        "\n",
        "\n",
        "Вы работаете в отделе маркетинга пищевой компании MyCrunch, которая разрабатывает новый вид вкусных, полезных злаков под названием CrunchieMunchies.\n",
        "\n",
        "Вы хотите продемонстрировать потребителям, насколько полезны ваши хлопья по сравнению с другими ведущими брендами, поэтому вы собрали данные о питании нескольких разных конкурентов.\n",
        "\n",
        "Ваша задача - использовать вычисления Numpy для анализа этих данных и доказать, что ваши СrunchieMunchies - самый здоровый выбор для потребителей."
      ],
      "metadata": {
        "id": "7D2DcdQGzkCW"
      }
    },
    {
      "cell_type": "markdown",
      "source": [
        "1.Просмотрите файл cereal.csv. Этот файл содержит количества калорий для различных марок хлопьев. Загрузите данные из файла и сохраните их как calorie_stats."
      ],
      "metadata": {
        "id": "XS35Gvp5z9z5"
      }
    },
    {
      "cell_type": "code",
      "source": [
        "calorie_stats = np.loadtxt(\"./sample_data/cereal.csv\", delimiter=\",\")\n",
        "calorie_stats"
      ],
      "metadata": {
        "id": "XUE1CWnT0MVf"
      },
      "execution_count": null,
      "outputs": []
    },
    {
      "cell_type": "markdown",
      "source": [
        "В одной порции CrunchieMunchies содержится 60 калорий. Насколько выше среднее количество калорий у ваших конкурентов?\n",
        "Сохраните ответ в переменной average_calories и распечатайте переменную в терминале"
      ],
      "metadata": {
        "id": "lPdTq6wa47R4"
      }
    },
    {
      "cell_type": "code",
      "source": [
        "average_calories = np.average(calorie_stats - 60)\n",
        "print(average_calories)"
      ],
      "metadata": {
        "colab": {
          "base_uri": "https://localhost:8080/"
        },
        "id": "J0iPLr-g5AiG",
        "outputId": "053c2aa1-d23b-4733-8fb9-15a386dd1c95"
      },
      "execution_count": 23,
      "outputs": [
        {
          "output_type": "stream",
          "name": "stdout",
          "text": [
            "46.883116883116884\n"
          ]
        }
      ]
    },
    {
      "cell_type": "markdown",
      "source": [
        "Корректно ли среднее количество калорий отражает распределение набора данных? Давайте отсортируем данные и посмотрим.\n",
        "Отсортируйте данные и сохраните результат в переменной calorie_stats_sorted. Распечатайте отсортированную информацию"
      ],
      "metadata": {
        "id": "oSgwUjGT5K9A"
      }
    },
    {
      "cell_type": "code",
      "source": [
        "calorie_stats_sorted = np.sort(calorie_stats)\n",
        "print(calorie_stats_sorted)"
      ],
      "metadata": {
        "colab": {
          "base_uri": "https://localhost:8080/"
        },
        "id": "fMr_ulzt5Mx1",
        "outputId": "d1b0b626-ba9a-4213-a74c-f721a822ab79"
      },
      "execution_count": 25,
      "outputs": [
        {
          "output_type": "stream",
          "name": "stdout",
          "text": [
            "[ 50.  50.  50.  70.  70.  80.  90.  90.  90.  90.  90.  90.  90. 100.\n",
            " 100. 100. 100. 100. 100. 100. 100. 100. 100. 100. 100. 100. 100. 100.\n",
            " 100. 100. 110. 110. 110. 110. 110. 110. 110. 110. 110. 110. 110. 110.\n",
            " 110. 110. 110. 110. 110. 110. 110. 110. 110. 110. 110. 110. 110. 110.\n",
            " 110. 110. 110. 120. 120. 120. 120. 120. 120. 120. 120. 120. 120. 130.\n",
            " 130. 140. 140. 140. 150. 150. 160.]\n"
          ]
        }
      ]
    },
    {
      "cell_type": "markdown",
      "source": [
        "Похоже, что большинство значений выше среднего. Давайте посмотрим, является ли медиана наиболее корректным показателем набора данных.\n",
        "\n",
        "Вычислите медиану набора данных и сохраните свой ответ в median_calories. Выведите медиану, чтобы вы могли видеть, как она сравнивается со средним значением."
      ],
      "metadata": {
        "id": "WeCziCrh51Am"
      }
    },
    {
      "cell_type": "code",
      "source": [
        "median_calories = np.median(calorie_stats_sorted)\n",
        "print(median_calories)"
      ],
      "metadata": {
        "colab": {
          "base_uri": "https://localhost:8080/"
        },
        "id": "PYUqPU1o52B0",
        "outputId": "04aa421a-1a84-4cac-c8ce-874e4815157c"
      },
      "execution_count": 26,
      "outputs": [
        {
          "output_type": "stream",
          "name": "stdout",
          "text": [
            "110.0\n"
          ]
        }
      ]
    },
    {
      "cell_type": "markdown",
      "source": [
        "В то время как медиана показывает, что по крайней мере половина наших значений составляет более 100 калорий, было бы более впечатляюще показать, что значительная часть конкурентов имеет более высокое количество калорий, чем CrunchieMunchies.\n",
        "\n",
        "Рассчитайте различные процентили и распечатайте их, пока не найдете наименьший процентиль, превышающий 60 калорий. Сохраните это значение в переменной nth_percentile."
      ],
      "metadata": {
        "id": "ZbwDDnFv6FOG"
      }
    },
    {
      "cell_type": "code",
      "source": [
        "percentile = np.empty(shape=101)\n",
        "for i in range(101):\n",
        "    percentile[i] = np.percentile(calorie_stats, i)\n",
        "    if percentile[i]>60:\n",
        "        nth_percentile = i\n",
        "        break\n",
        "\n",
        "print(nth_percentile)"
      ],
      "metadata": {
        "colab": {
          "base_uri": "https://localhost:8080/"
        },
        "id": "uptkWVle6GHB",
        "outputId": "83c47828-4e33-4f1d-9bf1-ec512ed771f8"
      },
      "execution_count": 27,
      "outputs": [
        {
          "output_type": "stream",
          "name": "stdout",
          "text": [
            "4\n"
          ]
        }
      ]
    },
    {
      "cell_type": "markdown",
      "source": [
        "Хотя процентиль показывает нам, что у большинства конкурентов количество калорий намного выше, это неудобная концепция для использования в маркетинговых материалах.\n",
        "\n",
        "Вместо этого давайте подсчитаем процент хлопьев, в которых содержится более 60 калорий на порцию. Сохраните свой ответ в переменной more_calories и распечатайте его"
      ],
      "metadata": {
        "id": "8o_P-yUD_AMR"
      }
    },
    {
      "cell_type": "code",
      "source": [
        "more_calories = len(calorie_stats[calorie_stats>60])/len(calorie_stats)\n",
        "print(more_calories)"
      ],
      "metadata": {
        "colab": {
          "base_uri": "https://localhost:8080/"
        },
        "id": "dRJq0Sps_Et8",
        "outputId": "603d4b28-5c11-4042-ea17-73765ecbc146"
      },
      "execution_count": 28,
      "outputs": [
        {
          "output_type": "stream",
          "name": "stdout",
          "text": [
            "0.961038961038961\n"
          ]
        }
      ]
    },
    {
      "cell_type": "markdown",
      "source": [
        "Это действительно высокий процент. Это будет очень полезно, когда мы будем продвигать CrunchieMunchies. Но один вопрос заключается в том, насколько велики различия в наборе данных? Можем ли мы сделать обобщение, что в большинстве злаков содержится около 100 калорий или разброс еще больше?\n",
        "\n",
        "Рассчитайте величину отклонения, найдя стандартное отклонение, Сохраните свой ответ в calorie_std и распечатайте на терминале. Как мы можем включить эту ценность в наш анализ?"
      ],
      "metadata": {
        "id": "hHE-vc1g_297"
      }
    },
    {
      "cell_type": "code",
      "source": [
        "calorie_std = np.std(calorie_stats)\n",
        "print(calorie_std)"
      ],
      "metadata": {
        "colab": {
          "base_uri": "https://localhost:8080/"
        },
        "id": "O1JsxRDj__hW",
        "outputId": "55d2815a-833b-4e13-de3e-21c1a5e4c55e"
      },
      "execution_count": 29,
      "outputs": [
        {
          "output_type": "stream",
          "name": "stdout",
          "text": [
            "19.35718533390827\n"
          ]
        }
      ]
    },
    {
      "cell_type": "markdown",
      "source": [
        "Напишите короткий абзац, в котором кратко изложите свои выводы и то, как, по вашему мнению, эти данные могут быть использованы в интересах Mycrunch при маркетинге CrunchieMunchies."
      ],
      "metadata": {
        "id": "u0puZhTDA_Qu"
      }
    },
    {
      "cell_type": "markdown",
      "source": [
        "CM - CrunchieMunchies\n",
        "\n",
        "В среднем количество каллорий в CM меньше, чем в остальных злаках на 46 кКал, но так как показатель среднего арифметического подвержен сильному влиянию «больших отклонений», это не может гарантировать, что CM одни из самых лучших в нашей выборке (а что, если в выборке есть суперкалорийные хлопья с превышением суточной нормы кКал в 100 раз, которые рекомендуют 0/10 диетологов, но чёрный пиар тоже пиар, и они продаются?)\n",
        "\n",
        "Медиана показывает превосходство CM над другими чуть лучше, чем среднее арифметическое, ибо мы можем утверждать, что хотя бы половина злаков содержит в себе на 50 калорий больше, чем CM (однако что, если производители разделились на 2 лагеря? Одни решили сделать вкусные, но калорийные хлопья с содержанием более 100 кКал для настоящих гурманов и сладкоежек, а другие выбрали своей аудиторией фитоняшек и стали выпускать хлопья по 10- кКал, и получилось так, что 39 отнеслись к первому лагерю, а 38 ко второму, тогда наши злаки однозначно входят только в ТОП-39, но не более того).\n",
        "\n",
        "Перейдём к процентилю. Он показал, что CM однозначно входят в ТОП-4 лучших хлопьев из выборки. Однако понятие процентиля знакомо далеко не всем потребителям (даже я впервые услышала сегодня), поэтому лучше объяснить всё на понятном для большинства языке\n",
        "\n",
        "А вот процент хлопьев в выборке, в которых содержится более 60 калорий на порцию, довольно высок - 96%, это показывает, что CM находятся в очень выгодной позиции по калорийности. Да, не 100%, но это можно сослать на то, что наши злаки вкуснее этих 50 кКалорийных, поэтому пришлось проиграть по калориям, ведь главное чтобы было не только полезно, но и вкусно\n",
        "\n",
        "Стандартное отклонение показывает нам, что впринципе, разброс у значений калорийности не является слишком большим, но также и не является слишком маленьким, так что нет значительно выбивающихся за рамки разумного по калорийности злаков, что показывает состоятельность оценки средним арифметическим, в совокупности эти 2 значения тоже можно исползовать как убедительный аргумент.\n",
        "\n",
        "В целом это всё, что можно было использовать. \n",
        "\n",
        "P.S. Простите, некуда было деть свой писательский талант и знание ТВиМСов\n",
        "\n"
      ],
      "metadata": {
        "id": "mkzeeZL4BIIw"
      }
    }
  ]
}