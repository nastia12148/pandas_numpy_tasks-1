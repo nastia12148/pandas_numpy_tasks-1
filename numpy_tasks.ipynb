{
  "nbformat": 4,
  "nbformat_minor": 0,
  "metadata": {
    "colab": {
      "name": "pandas_numpy_tasks.ipynb",
      "provenance": [],
      "authorship_tag": "ABX9TyM6c3WwgUEXw/bLAwlJPlL2",
      "include_colab_link": true
    },
    "kernelspec": {
      "name": "python3",
      "display_name": "Python 3"
    },
    "language_info": {
      "name": "python"
    }
  },
  "cells": [
    {
      "cell_type": "markdown",
      "metadata": {
        "id": "view-in-github",
        "colab_type": "text"
      },
      "source": [
        "<a href=\"https://colab.research.google.com/github/nastia12148/pandas_numpy_tasks-1/blob/main/numpy_tasks.ipynb\" target=\"_parent\"><img src=\"https://colab.research.google.com/assets/colab-badge.svg\" alt=\"Open In Colab\"/></a>"
      ]
    },
    {
      "cell_type": "markdown",
      "source": [
        "### Упражнения по Numpy"
      ],
      "metadata": {
        "id": "M7jEPwRgB4oD"
      }
    },
    {
      "cell_type": "code",
      "execution_count": null,
      "metadata": {
        "id": "9ApFc26pBtK9"
      },
      "outputs": [],
      "source": [
        "import numpy as np"
      ]
    },
    {
      "cell_type": "markdown",
      "source": [
        "1. Дан случайный массив, поменять знак у элементов, значения которых между 3 и 8 (не включительно)"
      ],
      "metadata": {
        "id": "oJ_tQ1YtCPzk"
      }
    },
    {
      "cell_type": "code",
      "source": [
        "n = int(input(\"Input the size of array:\"))\n",
        "k = int(input(\"Input max possible integer value in array:\"))\n",
        "\n",
        "mas = np.random.randint(0,k,n)\n",
        "\n",
        "print(\"input array: \" + str(mas))\n",
        "\n",
        "for i in range(n):\n",
        "    if (mas[i] > 3) & (mas[i] < 8):\n",
        "        mas[i] = - mas[i]\n",
        "\n",
        "\n",
        "print(\"output massive: \" + str(mas))"
      ],
      "metadata": {
        "id": "boOz2qfECWbc"
      },
      "execution_count": null,
      "outputs": []
    },
    {
      "cell_type": "markdown",
      "source": [
        "2. Заменить (первый) максимальный элемент случайного массива на 0"
      ],
      "metadata": {
        "id": "i04bjPL0TaGZ"
      }
    },
    {
      "cell_type": "code",
      "source": [
        "n = int(input(\"Input the size of array:\"))\n",
        "k = int(input(\"Input max possible integer value in massive:\"))\n",
        "\n",
        "mas = np.random.randint(0,k,n)\n",
        "\n",
        "print(\"input array: \" + str(mas))\n",
        "\n",
        "max_elem = mas[0]\n",
        "max_elem_ind = 0\n",
        "\n",
        "for i in range(n):\n",
        "    if mas[i] > max_elem:\n",
        "        max_elem = mas[i]\n",
        "        max_elem_ind = i\n",
        "\n",
        "mas[max_elem_ind] = 0\n",
        "\n",
        "print(\"output array: \" + str(mas))"
      ],
      "metadata": {
        "id": "Z58pjBunTboW"
      },
      "execution_count": null,
      "outputs": []
    },
    {
      "cell_type": "markdown",
      "source": [
        "3. Построить прямое произведение массивов (все комбинации с каждым элементом). На вход подается двумерный массив"
      ],
      "metadata": {
        "id": "ai48gebrWYZp"
      }
    },
    {
      "cell_type": "code",
      "source": [
        "def deck_mul(arrays):\n",
        "    arrays = tuple(arrays)\n",
        "    shape = map(len, arrays)\n",
        "\n",
        "    n_pairs = np.indices(shape, dtype=int)\n",
        "    n_pairs = n_pairs.reshape(len(arrays), -1).T\n",
        "\n",
        "    for n, arr in enumerate(arrays):\n",
        "        n_pairs[:, n] = arrays[n][n_pairs[:, n]]\n",
        "\n",
        "    return n_pairs\n",
        "\n",
        "lines = int(input(\"Input amount of lines in array:\"))\n",
        "columns = int(input(\"Input amount of columns in array:\"))\n",
        "\n",
        "mas = np.random.randint(10,size = (lines,columns))\n",
        "\n",
        "print(mas)\n",
        "\n",
        "print(deck_mul(mas))"
      ],
      "metadata": {
        "id": "e7jgKP1fvU1K"
      },
      "execution_count": null,
      "outputs": []
    },
    {
      "cell_type": "markdown",
      "source": [
        "4. Даны 2 массива A (8x3) и B (2x2). Найти строки в A, которые содержат элементы из каждой строки в B, независимо от порядка элементов в B"
      ],
      "metadata": {
        "id": "3TGkghmtNsG0"
      }
    },
    {
      "cell_type": "code",
      "source": [
        "mas_A = np.random.randint(6,size = (8,3))\n",
        "mas_B = np.random.randint(6,size = (2,2))\n",
        "\n",
        "print(mas_A)\n",
        "print(mas_B)\n",
        "\n",
        "mas_count = np.array([0,0,0,0,0,0,0,0])\n",
        "\n",
        "\n",
        "for i in range(mas_A.shape[0]):\n",
        "    k_1: int = 0\n",
        "    k_2: int = 0\n",
        "    for j in range(mas_A.shape[1]):\n",
        "        for p in range(2):\n",
        "            if(mas_A[i][j]==mas_B[0][p]):\n",
        "                k_1+=1\n",
        "            if(mas_A[i][j]==mas_B[1][p]):\n",
        "                k_2+=1\n",
        "    if(k_1>=1) & (k_2>=1):\n",
        "        mas_count[i] = i+1\n",
        "\n",
        "print(\"Numbers of rows with elements of ever B_mas row:\")\n",
        "for i in range(mas_A.shape[0]):\n",
        "    if(mas_count[i]!=0):\n",
        "        print(mas_count[i])"
      ],
      "metadata": {
        "id": "glUVV-UuNvc8"
      },
      "execution_count": null,
      "outputs": []
    },
    {
      "cell_type": "markdown",
      "source": [
        "5. Дана 10x3 матрица, найти строки из неравных значений (например строка [2,2,3] остается, строка [3,3,3] удаляется)"
      ],
      "metadata": {
        "id": "9yepoaIelrAa"
      }
    },
    {
      "cell_type": "code",
      "source": [
        "matrix = list(np.random.randint(3,size = (10,3)))\n",
        "print(matrix)\n",
        "\n",
        "i=9\n",
        "\n",
        "while i!=-1:\n",
        "    if(len(set(matrix[i]))<=1):\n",
        "        matrix.pop(i)\n",
        "    i-=1\n",
        "\n",
        "print(matrix)"
      ],
      "metadata": {
        "id": "8xmmNGc_u0t8"
      },
      "execution_count": null,
      "outputs": []
    },
    {
      "cell_type": "markdown",
      "source": [
        "6.Дан двумерный массив. Удалить те строки, которые повторяются"
      ],
      "metadata": {
        "id": "7hx8sq_Cu5Rt"
      }
    },
    {
      "cell_type": "code",
      "source": [
        "matrix = np.random.randint(2,size = (10,3))\n",
        "print(matrix)\n",
        "\n",
        "matrix = np.array(matrix)\n",
        "\n",
        "matrix, idx = np.unique(matrix, axis=0, return_index=True)\n",
        "res = matrix[idx.argsort()]\n",
        "\n",
        "print(res)"
      ],
      "metadata": {
        "id": "yAJTXLdvvCGT"
      },
      "execution_count": null,
      "outputs": []
    }
  ]
}