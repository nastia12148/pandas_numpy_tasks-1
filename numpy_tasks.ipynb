{
  "nbformat": 4,
  "nbformat_minor": 0,
  "metadata": {
    "colab": {
      "name": "pandas_numpy_tasks.ipynb",
      "provenance": [],
      "authorship_tag": "ABX9TyOWVGVXwb3cn/lA0rfD4bG/",
      "include_colab_link": true
    },
    "kernelspec": {
      "name": "python3",
      "display_name": "Python 3"
    },
    "language_info": {
      "name": "python"
    }
  },
  "cells": [
    {
      "cell_type": "markdown",
      "metadata": {
        "id": "view-in-github",
        "colab_type": "text"
      },
      "source": [
        "<a href=\"https://colab.research.google.com/github/nastia12148/pandas_numpy_tasks-1/blob/main/numpy_tasks.ipynb\" target=\"_parent\"><img src=\"https://colab.research.google.com/assets/colab-badge.svg\" alt=\"Open In Colab\"/></a>"
      ]
    },
    {
      "cell_type": "markdown",
      "source": [
        "### Упражнения по Numpy"
      ],
      "metadata": {
        "id": "M7jEPwRgB4oD"
      }
    },
    {
      "cell_type": "code",
      "execution_count": 2,
      "metadata": {
        "id": "9ApFc26pBtK9"
      },
      "outputs": [],
      "source": [
        "import numpy as np"
      ]
    },
    {
      "cell_type": "markdown",
      "source": [
        "1. Дан случайный массив, поменять знак у элементов, значения которых между 3 и 8 (не включительно)"
      ],
      "metadata": {
        "id": "oJ_tQ1YtCPzk"
      }
    },
    {
      "cell_type": "code",
      "source": [
        "n = int(input(\"Input the size of array:\"))\n",
        "k = int(input(\"Input max possible integer value in array:\"))\n",
        "\n",
        "mas = np.random.randint(0,k,n)\n",
        "\n",
        "print(\"input array: \" + str(mas))\n",
        "\n",
        "for i in range(n):\n",
        "    if (mas[i] > 3) & (mas[i] < 8):\n",
        "        mas[i] = - mas[i]\n",
        "\n",
        "\n",
        "print(\"output massive: \" + str(mas))"
      ],
      "metadata": {
        "id": "boOz2qfECWbc"
      },
      "execution_count": null,
      "outputs": []
    },
    {
      "cell_type": "markdown",
      "source": [
        "2. Заменить (первый) максимальный элемент случайного массива на 0"
      ],
      "metadata": {
        "id": "i04bjPL0TaGZ"
      }
    },
    {
      "cell_type": "code",
      "source": [
        "n = int(input(\"Input the size of array:\"))\n",
        "k = int(input(\"Input max possible integer value in massive:\"))\n",
        "\n",
        "mas = np.random.randint(0,k,n)\n",
        "\n",
        "print(\"input array: \" + str(mas))\n",
        "\n",
        "max_elem = mas[0]\n",
        "max_elem_ind = 0\n",
        "\n",
        "for i in range(n):\n",
        "    if mas[i] > max_elem:\n",
        "        max_elem = mas[i]\n",
        "        max_elem_ind = i\n",
        "\n",
        "mas[max_elem_ind] = 0\n",
        "\n",
        "print(\"output array: \" + str(mas))"
      ],
      "metadata": {
        "id": "Z58pjBunTboW"
      },
      "execution_count": null,
      "outputs": []
    },
    {
      "cell_type": "markdown",
      "source": [
        "3. Построить прямое произведение массивов (все комбинации с каждым элементом). На вход подается двумерный массив"
      ],
      "metadata": {
        "id": "ai48gebrWYZp"
      }
    },
    {
      "cell_type": "code",
      "source": [
        "def deck_mul(arrays):\n",
        "    arrays = tuple(arrays)\n",
        "    shape = map(len, arrays)\n",
        "\n",
        "    n_pairs = np.indices(shape, dtype=int)\n",
        "    n_pairs = n_pairs.reshape(len(arrays), -1).T\n",
        "\n",
        "    for n, arr in enumerate(arrays):\n",
        "        n_pairs[:, n] = arrays[n][n_pairs[:, n]]\n",
        "\n",
        "    return n_pairs\n",
        "\n",
        "lines = int(input(\"Input amount of lines in array:\"))\n",
        "columns = int(input(\"Input amount of columns in array:\"))\n",
        "\n",
        "mas = np.random.randint(10,size = (lines,columns))\n",
        "\n",
        "print(mas)\n",
        "\n",
        "print(deck_mul(mas))"
      ],
      "metadata": {
        "id": "e7jgKP1fvU1K"
      },
      "execution_count": null,
      "outputs": []
    }
  ]
}