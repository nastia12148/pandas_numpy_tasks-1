{
  "nbformat": 4,
  "nbformat_minor": 0,
  "metadata": {
    "colab": {
      "name": "pandas_tasks.ipynb",
      "provenance": [],
      "authorship_tag": "ABX9TyNpgKlDk2UV/w2zAGsEJB/O",
      "include_colab_link": true
    },
    "kernelspec": {
      "name": "python3",
      "display_name": "Python 3"
    },
    "language_info": {
      "name": "python"
    }
  },
  "cells": [
    {
      "cell_type": "markdown",
      "metadata": {
        "id": "view-in-github",
        "colab_type": "text"
      },
      "source": [
        "<a href=\"https://colab.research.google.com/github/nastia12148/pandas_numpy_tasks-1/blob/main/pandas_tasks.ipynb\" target=\"_parent\"><img src=\"https://colab.research.google.com/assets/colab-badge.svg\" alt=\"Open In Colab\"/></a>"
      ]
    },
    {
      "cell_type": "markdown",
      "source": [
        "### **Проведите анализ данных при помощи Pandas выполнив поставленные задачи.**"
      ],
      "metadata": {
        "id": "7kOZeDbrXVRj"
      }
    },
    {
      "cell_type": "code",
      "source": [
        "import pandas as pd\n",
        "import numpy as np"
      ],
      "metadata": {
        "id": "BPUo8MqkXeXc"
      },
      "execution_count": null,
      "outputs": []
    },
    {
      "cell_type": "code",
      "source": [
        "# загружаем датасет\n",
        "data = pd.read_csv(\"./sample_data/adult.data.csv\")\n",
        "data.head()"
      ],
      "metadata": {
        "colab": {
          "base_uri": "https://localhost:8080/",
          "height": 250
        },
        "id": "36IRnl_-ZQcS",
        "outputId": "20445e35-cddf-42aa-f696-687f7bc00db2"
      },
      "execution_count": null,
      "outputs": [
        {
          "output_type": "execute_result",
          "data": {
            "text/plain": [
              "   age         workclass  fnlwgt  education  education-num  \\\n",
              "0   39         State-gov   77516  Bachelors             13   \n",
              "1   50  Self-emp-not-inc   83311  Bachelors             13   \n",
              "2   38           Private  215646    HS-grad              9   \n",
              "3   53           Private  234721       11th              7   \n",
              "4   28           Private  338409  Bachelors             13   \n",
              "\n",
              "       marital-status         occupation   relationship   race     sex  \\\n",
              "0       Never-married       Adm-clerical  Not-in-family  White    Male   \n",
              "1  Married-civ-spouse    Exec-managerial        Husband  White    Male   \n",
              "2            Divorced  Handlers-cleaners  Not-in-family  White    Male   \n",
              "3  Married-civ-spouse  Handlers-cleaners        Husband  Black    Male   \n",
              "4  Married-civ-spouse     Prof-specialty           Wife  Black  Female   \n",
              "\n",
              "   capital-gain  capital-loss  hours-per-week native-country salary  \n",
              "0        2174.0           0.0            40.0  United-States  <=50K  \n",
              "1           0.0           0.0            13.0  United-States  <=50K  \n",
              "2           0.0           0.0            40.0  United-States  <=50K  \n",
              "3           0.0           0.0            40.0  United-States  <=50K  \n",
              "4           0.0           0.0            40.0           Cuba  <=50K  "
            ],
            "text/html": [
              "\n",
              "  <div id=\"df-1acf0d54-affd-448a-b92c-3fe7b641e751\">\n",
              "    <div class=\"colab-df-container\">\n",
              "      <div>\n",
              "<style scoped>\n",
              "    .dataframe tbody tr th:only-of-type {\n",
              "        vertical-align: middle;\n",
              "    }\n",
              "\n",
              "    .dataframe tbody tr th {\n",
              "        vertical-align: top;\n",
              "    }\n",
              "\n",
              "    .dataframe thead th {\n",
              "        text-align: right;\n",
              "    }\n",
              "</style>\n",
              "<table border=\"1\" class=\"dataframe\">\n",
              "  <thead>\n",
              "    <tr style=\"text-align: right;\">\n",
              "      <th></th>\n",
              "      <th>age</th>\n",
              "      <th>workclass</th>\n",
              "      <th>fnlwgt</th>\n",
              "      <th>education</th>\n",
              "      <th>education-num</th>\n",
              "      <th>marital-status</th>\n",
              "      <th>occupation</th>\n",
              "      <th>relationship</th>\n",
              "      <th>race</th>\n",
              "      <th>sex</th>\n",
              "      <th>capital-gain</th>\n",
              "      <th>capital-loss</th>\n",
              "      <th>hours-per-week</th>\n",
              "      <th>native-country</th>\n",
              "      <th>salary</th>\n",
              "    </tr>\n",
              "  </thead>\n",
              "  <tbody>\n",
              "    <tr>\n",
              "      <th>0</th>\n",
              "      <td>39</td>\n",
              "      <td>State-gov</td>\n",
              "      <td>77516</td>\n",
              "      <td>Bachelors</td>\n",
              "      <td>13</td>\n",
              "      <td>Never-married</td>\n",
              "      <td>Adm-clerical</td>\n",
              "      <td>Not-in-family</td>\n",
              "      <td>White</td>\n",
              "      <td>Male</td>\n",
              "      <td>2174.0</td>\n",
              "      <td>0.0</td>\n",
              "      <td>40.0</td>\n",
              "      <td>United-States</td>\n",
              "      <td>&lt;=50K</td>\n",
              "    </tr>\n",
              "    <tr>\n",
              "      <th>1</th>\n",
              "      <td>50</td>\n",
              "      <td>Self-emp-not-inc</td>\n",
              "      <td>83311</td>\n",
              "      <td>Bachelors</td>\n",
              "      <td>13</td>\n",
              "      <td>Married-civ-spouse</td>\n",
              "      <td>Exec-managerial</td>\n",
              "      <td>Husband</td>\n",
              "      <td>White</td>\n",
              "      <td>Male</td>\n",
              "      <td>0.0</td>\n",
              "      <td>0.0</td>\n",
              "      <td>13.0</td>\n",
              "      <td>United-States</td>\n",
              "      <td>&lt;=50K</td>\n",
              "    </tr>\n",
              "    <tr>\n",
              "      <th>2</th>\n",
              "      <td>38</td>\n",
              "      <td>Private</td>\n",
              "      <td>215646</td>\n",
              "      <td>HS-grad</td>\n",
              "      <td>9</td>\n",
              "      <td>Divorced</td>\n",
              "      <td>Handlers-cleaners</td>\n",
              "      <td>Not-in-family</td>\n",
              "      <td>White</td>\n",
              "      <td>Male</td>\n",
              "      <td>0.0</td>\n",
              "      <td>0.0</td>\n",
              "      <td>40.0</td>\n",
              "      <td>United-States</td>\n",
              "      <td>&lt;=50K</td>\n",
              "    </tr>\n",
              "    <tr>\n",
              "      <th>3</th>\n",
              "      <td>53</td>\n",
              "      <td>Private</td>\n",
              "      <td>234721</td>\n",
              "      <td>11th</td>\n",
              "      <td>7</td>\n",
              "      <td>Married-civ-spouse</td>\n",
              "      <td>Handlers-cleaners</td>\n",
              "      <td>Husband</td>\n",
              "      <td>Black</td>\n",
              "      <td>Male</td>\n",
              "      <td>0.0</td>\n",
              "      <td>0.0</td>\n",
              "      <td>40.0</td>\n",
              "      <td>United-States</td>\n",
              "      <td>&lt;=50K</td>\n",
              "    </tr>\n",
              "    <tr>\n",
              "      <th>4</th>\n",
              "      <td>28</td>\n",
              "      <td>Private</td>\n",
              "      <td>338409</td>\n",
              "      <td>Bachelors</td>\n",
              "      <td>13</td>\n",
              "      <td>Married-civ-spouse</td>\n",
              "      <td>Prof-specialty</td>\n",
              "      <td>Wife</td>\n",
              "      <td>Black</td>\n",
              "      <td>Female</td>\n",
              "      <td>0.0</td>\n",
              "      <td>0.0</td>\n",
              "      <td>40.0</td>\n",
              "      <td>Cuba</td>\n",
              "      <td>&lt;=50K</td>\n",
              "    </tr>\n",
              "  </tbody>\n",
              "</table>\n",
              "</div>\n",
              "      <button class=\"colab-df-convert\" onclick=\"convertToInteractive('df-1acf0d54-affd-448a-b92c-3fe7b641e751')\"\n",
              "              title=\"Convert this dataframe to an interactive table.\"\n",
              "              style=\"display:none;\">\n",
              "        \n",
              "  <svg xmlns=\"http://www.w3.org/2000/svg\" height=\"24px\"viewBox=\"0 0 24 24\"\n",
              "       width=\"24px\">\n",
              "    <path d=\"M0 0h24v24H0V0z\" fill=\"none\"/>\n",
              "    <path d=\"M18.56 5.44l.94 2.06.94-2.06 2.06-.94-2.06-.94-.94-2.06-.94 2.06-2.06.94zm-11 1L8.5 8.5l.94-2.06 2.06-.94-2.06-.94L8.5 2.5l-.94 2.06-2.06.94zm10 10l.94 2.06.94-2.06 2.06-.94-2.06-.94-.94-2.06-.94 2.06-2.06.94z\"/><path d=\"M17.41 7.96l-1.37-1.37c-.4-.4-.92-.59-1.43-.59-.52 0-1.04.2-1.43.59L10.3 9.45l-7.72 7.72c-.78.78-.78 2.05 0 2.83L4 21.41c.39.39.9.59 1.41.59.51 0 1.02-.2 1.41-.59l7.78-7.78 2.81-2.81c.8-.78.8-2.07 0-2.86zM5.41 20L4 18.59l7.72-7.72 1.47 1.35L5.41 20z\"/>\n",
              "  </svg>\n",
              "      </button>\n",
              "      \n",
              "  <style>\n",
              "    .colab-df-container {\n",
              "      display:flex;\n",
              "      flex-wrap:wrap;\n",
              "      gap: 12px;\n",
              "    }\n",
              "\n",
              "    .colab-df-convert {\n",
              "      background-color: #E8F0FE;\n",
              "      border: none;\n",
              "      border-radius: 50%;\n",
              "      cursor: pointer;\n",
              "      display: none;\n",
              "      fill: #1967D2;\n",
              "      height: 32px;\n",
              "      padding: 0 0 0 0;\n",
              "      width: 32px;\n",
              "    }\n",
              "\n",
              "    .colab-df-convert:hover {\n",
              "      background-color: #E2EBFA;\n",
              "      box-shadow: 0px 1px 2px rgba(60, 64, 67, 0.3), 0px 1px 3px 1px rgba(60, 64, 67, 0.15);\n",
              "      fill: #174EA6;\n",
              "    }\n",
              "\n",
              "    [theme=dark] .colab-df-convert {\n",
              "      background-color: #3B4455;\n",
              "      fill: #D2E3FC;\n",
              "    }\n",
              "\n",
              "    [theme=dark] .colab-df-convert:hover {\n",
              "      background-color: #434B5C;\n",
              "      box-shadow: 0px 1px 3px 1px rgba(0, 0, 0, 0.15);\n",
              "      filter: drop-shadow(0px 1px 2px rgba(0, 0, 0, 0.3));\n",
              "      fill: #FFFFFF;\n",
              "    }\n",
              "  </style>\n",
              "\n",
              "      <script>\n",
              "        const buttonEl =\n",
              "          document.querySelector('#df-1acf0d54-affd-448a-b92c-3fe7b641e751 button.colab-df-convert');\n",
              "        buttonEl.style.display =\n",
              "          google.colab.kernel.accessAllowed ? 'block' : 'none';\n",
              "\n",
              "        async function convertToInteractive(key) {\n",
              "          const element = document.querySelector('#df-1acf0d54-affd-448a-b92c-3fe7b641e751');\n",
              "          const dataTable =\n",
              "            await google.colab.kernel.invokeFunction('convertToInteractive',\n",
              "                                                     [key], {});\n",
              "          if (!dataTable) return;\n",
              "\n",
              "          const docLinkHtml = 'Like what you see? Visit the ' +\n",
              "            '<a target=\"_blank\" href=https://colab.research.google.com/notebooks/data_table.ipynb>data table notebook</a>'\n",
              "            + ' to learn more about interactive tables.';\n",
              "          element.innerHTML = '';\n",
              "          dataTable['output_type'] = 'display_data';\n",
              "          await google.colab.output.renderOutput(dataTable, element);\n",
              "          const docLink = document.createElement('div');\n",
              "          docLink.innerHTML = docLinkHtml;\n",
              "          element.appendChild(docLink);\n",
              "        }\n",
              "      </script>\n",
              "    </div>\n",
              "  </div>\n",
              "  "
            ]
          },
          "metadata": {},
          "execution_count": 4
        }
      ]
    },
    {
      "cell_type": "markdown",
      "source": [
        "**1. Посчитайте, сколько мужчин и женщин (признак sex) представлено в этом датасете**"
      ],
      "metadata": {
        "id": "o-rzpiecZqZP"
      }
    },
    {
      "cell_type": "code",
      "source": [
        "male_count = data[\"sex\"].value_counts()\n",
        "print(male_count)"
      ],
      "metadata": {
        "id": "MsbXNjwsZsl3",
        "colab": {
          "base_uri": "https://localhost:8080/"
        },
        "outputId": "35f60bbd-afff-4b81-e91d-cae5b3307239"
      },
      "execution_count": null,
      "outputs": [
        {
          "output_type": "stream",
          "name": "stdout",
          "text": [
            "Male      19303\n",
            "Female     9542\n",
            "Name: sex, dtype: int64\n"
          ]
        }
      ]
    },
    {
      "cell_type": "markdown",
      "source": [
        "**2. Каков средний возраст мужчин (признак age) по всему датасету?**"
      ],
      "metadata": {
        "id": "XV50a4AljLU0"
      }
    },
    {
      "cell_type": "code",
      "source": [
        "male = data.loc[data[\"sex\"] == \"Male\"]\n",
        "male_aver_age = male[\"age\"].mean()\n",
        "print(male_aver_age)"
      ],
      "metadata": {
        "id": "67Mff7ZcjOYP",
        "colab": {
          "base_uri": "https://localhost:8080/"
        },
        "outputId": "43f5b420-7493-4c40-bb9f-c071ba5a7ec9"
      },
      "execution_count": null,
      "outputs": [
        {
          "output_type": "stream",
          "name": "stdout",
          "text": [
            "39.42423457493654\n"
          ]
        }
      ]
    },
    {
      "cell_type": "markdown",
      "source": [
        "**3. Какова доля граждан Соединенных Штатов (признак native-country)?**"
      ],
      "metadata": {
        "id": "8Jdb6CptjXvQ"
      }
    },
    {
      "cell_type": "code",
      "source": [
        "USA_percent = len(data[data[\"native-country\"] == \"United-States\"].value_counts())/len(data)\n",
        "print(USA_percent)"
      ],
      "metadata": {
        "id": "9X8qKJ-wjc3R",
        "colab": {
          "base_uri": "https://localhost:8080/"
        },
        "outputId": "663fe489-a650-4678-b8f6-4028b4e2530b"
      },
      "execution_count": null,
      "outputs": [
        {
          "output_type": "stream",
          "name": "stdout",
          "text": [
            "0.8953349098614908\n"
          ]
        }
      ]
    },
    {
      "cell_type": "markdown",
      "source": [
        "**4-5. Рассчитайте среднее значение и среднеквадратичное отклонение возраста тех, кто получает более 50K в год (признак salary) и тех, кто получает менее 50K в год**"
      ],
      "metadata": {
        "id": "qaWnnV9IlC_f"
      }
    },
    {
      "cell_type": "code",
      "source": [
        "more_then_50 = data[data[\"salary\"] == \">50K\"]\n",
        "less_then_50 = data[data[\"salary\"] == \"<=50K\"]\n",
        "\n",
        "aver_more = more_then_50[\"age\"].mean()\n",
        "std_more = more_then_50[\"age\"].std()\n",
        "\n",
        "aver_less = less_then_50[\"age\"].mean()\n",
        "std_less = less_then_50[\"age\"].std()\n",
        "\n",
        "print(aver_more)\n",
        "print(std_more)\n",
        "print(aver_less)\n",
        "print(std_less)"
      ],
      "metadata": {
        "id": "BLtsVcGrlEzM",
        "colab": {
          "base_uri": "https://localhost:8080/"
        },
        "outputId": "0b8150a4-9332-4c78-cb0b-9e995e25768f"
      },
      "execution_count": null,
      "outputs": [
        {
          "output_type": "stream",
          "name": "stdout",
          "text": [
            "44.25878779111818\n",
            "10.536313066374397\n",
            "36.82190406711654\n",
            "14.050532442448224\n"
          ]
        }
      ]
    },
    {
      "cell_type": "markdown",
      "source": [
        "**6. Правда ли, что люди, которые получают больше 50k, имеют минимум высшее образование? (признак education – Bachelors, Prof-school, Assoc-acdm, Assoc-voc, Masters или Doctorate)**"
      ],
      "metadata": {
        "id": "agV4LiyoVXsL"
      }
    },
    {
      "cell_type": "code",
      "source": [
        "high_ed = [\"Bachelors\", \"Prof-school\", \"Assoc-acdm\", \"Assoc-voc\", \"Masters\",\"Doctorate\"]\n",
        "\n",
        "more_then_50_high_ed = more_then_50[more_then_50[\"education\"].isin(high_ed)]\n",
        "\n",
        "if(more_then_50_high_ed.shape[0] == more_then_50.shape[0]):\n",
        "    print(\"Yes\")\n",
        "else:\n",
        "    print(\"No\")"
      ],
      "metadata": {
        "colab": {
          "base_uri": "https://localhost:8080/"
        },
        "id": "Iz_aooLcVhCm",
        "outputId": "f6166fe1-f35c-4b45-f056-cc52a3556fce"
      },
      "execution_count": 38,
      "outputs": [
        {
          "output_type": "stream",
          "name": "stdout",
          "text": [
            "No\n"
          ]
        }
      ]
    },
    {
      "cell_type": "markdown",
      "source": [
        "**7. Выведите статистику возраста для каждой расы (признак race) и каждого пола. Используйте groupby и describe. Найдите таким образом максимальный возраст мужчин расы Asian-Pac-Islander.**"
      ],
      "metadata": {
        "id": "_jXUy0ZQaRV2"
      }
    },
    {
      "cell_type": "code",
      "source": [
        "races = data.groupby(\"race\")[\"age\"].describe()\n",
        "print(races.head())"
      ],
      "metadata": {
        "colab": {
          "base_uri": "https://localhost:8080/"
        },
        "id": "TAnQ2fE-aWFJ",
        "outputId": "dca151e5-394d-49e4-a9f6-0b1fff960a43"
      },
      "execution_count": null,
      "outputs": [
        {
          "output_type": "stream",
          "name": "stdout",
          "text": [
            "                      count       mean        std   min   25%   50%   75%  \\\n",
            "race                                                                        \n",
            "Amer-Indian-Eskimo    311.0  37.173633  12.447130  17.0  28.0  35.0  45.5   \n",
            "Asian-Pac-Islander   1039.0  37.746872  12.825133  17.0  28.0  36.0  45.0   \n",
            "Black                3124.0  37.767926  12.759290  17.0  28.0  36.0  46.0   \n",
            "Other                 271.0  33.457565  11.538865  17.0  25.0  31.0  41.0   \n",
            "White               27816.0  38.769881  13.782306  17.0  28.0  37.0  48.0   \n",
            "\n",
            "                     max  \n",
            "race                      \n",
            "Amer-Indian-Eskimo  82.0  \n",
            "Asian-Pac-Islander  90.0  \n",
            "Black               90.0  \n",
            "Other               77.0  \n",
            "White               90.0  \n"
          ]
        }
      ]
    },
    {
      "cell_type": "code",
      "source": [
        "API_race = data[data[\"race\"] == \"Asian-Pac-Islander\"]\n",
        "API_sex = API_race.groupby(\"sex\")[\"age\"].describe()\n",
        "print(API_sex[\"max\"])"
      ],
      "metadata": {
        "colab": {
          "base_uri": "https://localhost:8080/"
        },
        "id": "HtzDDrKji8nP",
        "outputId": "7388efeb-0ad6-4307-aa26-7af9eddcfed6"
      },
      "execution_count": null,
      "outputs": [
        {
          "output_type": "stream",
          "name": "stdout",
          "text": [
            "sex\n",
            "Female    75.0\n",
            "Male      90.0\n",
            "Name: max, dtype: float64\n"
          ]
        }
      ]
    },
    {
      "cell_type": "markdown",
      "source": [
        "**8. Среди кого больше доля зарабатывающих много (>50K): среди женатых или холостых мужчин (признак marital-status)? Женатыми считаем тех, у кого marital-status начинается с Married (Married-civ-spouse, Married-spouse-absent или Married-AF-spouse), остальных считаем холостыми.**"
      ],
      "metadata": {
        "id": "cgdmiHQhkbVl"
      }
    },
    {
      "cell_type": "code",
      "source": [
        "married_rich_percent = data[(data[\"marital-status\"].str[:7] == \"Married\")\n",
        "                                &(data[\"salary\"] == \">50K\")].shape[0]\\\n",
        "                       /data[data[\"marital-status\"].str[:7] == \"Married\"].shape[0]\n",
        "\n",
        "not_married_rich_percent = data[(data[\"marital-status\"].str[:7] != \"Married\")\n",
        "                                &(data[\"salary\"] == \">50K\")].shape[0]\\\n",
        "                                 /data[data[\"marital-status\"].str[:7] != \"Married\"].shape[0]\n",
        "\n",
        "if(married_rich_percent>not_married_rich_percent):\n",
        "    print(\"Married is more rich\")\n",
        "else:\n",
        "    print(\"Married is more poor\")\n"
      ],
      "metadata": {
        "colab": {
          "base_uri": "https://localhost:8080/"
        },
        "id": "lWZQVl4yk_D1",
        "outputId": "13f8926c-24e5-451e-e5bd-b3cbceb570b1"
      },
      "execution_count": 11,
      "outputs": [
        {
          "output_type": "stream",
          "name": "stdout",
          "text": [
            "Married is more rich\n"
          ]
        }
      ]
    },
    {
      "cell_type": "markdown",
      "source": [
        "**9. Какое максимальное число часов человек работает в неделю (признак hours-per-week)? Сколько людей работают такое количество часов и каков среди них процент зарабатывающих много?**"
      ],
      "metadata": {
        "id": "ApVZL6x3nXEY"
      }
    },
    {
      "cell_type": "code",
      "source": [
        "max_hours = data[\"hours-per-week\"].max()\n",
        "print(max_hours)\n",
        "\n",
        "max_hours_people_count = data[data[\"hours-per-week\"] == max_hours].shape[0]\n",
        "print(max_hours_people_count)\n",
        "\n",
        "max_hours_people_rich_percent = data[(data[\"hours-per-week\"] == max_hours)&(data[\"salary\"] == \">50K\")].shape[0]\\\n",
        "                                /max_hours_people_count\n",
        "print(max_hours_people_rich_percent)"
      ],
      "metadata": {
        "id": "o9FLiShPnoxB",
        "colab": {
          "base_uri": "https://localhost:8080/"
        },
        "outputId": "fcd39497-759f-4339-db4c-31764e945d01"
      },
      "execution_count": 12,
      "outputs": [
        {
          "output_type": "stream",
          "name": "stdout",
          "text": [
            "99.0\n",
            "73\n",
            "0.2602739726027397\n"
          ]
        }
      ]
    },
    {
      "cell_type": "markdown",
      "source": [
        "**10. Посчитайте среднее время работы (hours-per-week) зарабатывающих мало и много (salary) для каждой страны (native-country).**"
      ],
      "metadata": {
        "id": "o01XcwBnpLXS"
      }
    },
    {
      "cell_type": "code",
      "source": [
        "print(data.groupby([\"native-country\",\"salary\"])[\"hours-per-week\"].mean())"
      ],
      "metadata": {
        "colab": {
          "base_uri": "https://localhost:8080/"
        },
        "id": "bz0qfUrBpbki",
        "outputId": "bd595bba-9dfb-440d-eb72-557ab34d192c"
      },
      "execution_count": null,
      "outputs": [
        {
          "output_type": "stream",
          "name": "stdout",
          "text": [
            "native-country  salary\n",
            "?               <=50K     40.164760\n",
            "                >50K      45.547945\n",
            "Cambodia        <=50K     41.416667\n",
            "                >50K      40.000000\n",
            "Canada          <=50K     37.914634\n",
            "                            ...    \n",
            "United-States   >50K      45.505369\n",
            "Vietnam         <=50K     37.193548\n",
            "                >50K      39.200000\n",
            "Yugoslavia      <=50K     41.600000\n",
            "                >50K      49.500000\n",
            "Name: hours-per-week, Length: 82, dtype: float64\n"
          ]
        }
      ]
    },
    {
      "cell_type": "markdown",
      "source": [
        "**11.Сгруппируйте людей по возрастным группам young, adult, retiree, где:**\n",
        "\n",
        "\n",
        "*   young соответствует 16-35 лет\n",
        "*   adult - 35-70 лет\n",
        "*   retiree - 70-100 лет\n"
      ],
      "metadata": {
        "id": "YhyaUtqXsDhV"
      }
    },
    {
      "cell_type": "code",
      "source": [
        "data[\"AgeGroup\"] = pd.cut(data[\"age\"], bins = [16,35,70,100], labels = [\"young\", \"adult\", \"retiree\"])\n",
        "print(data[\"AgeGroup\"])"
      ],
      "metadata": {
        "id": "T0aOrgc3sloI",
        "colab": {
          "base_uri": "https://localhost:8080/"
        },
        "outputId": "6149ad92-56f2-44ea-8cdb-91f428841061"
      },
      "execution_count": 27,
      "outputs": [
        {
          "output_type": "stream",
          "name": "stdout",
          "text": [
            "0        adult\n",
            "1        adult\n",
            "2        adult\n",
            "3        adult\n",
            "4        young\n",
            "         ...  \n",
            "28841    adult\n",
            "28842    adult\n",
            "28843    young\n",
            "28844    young\n",
            "28845    young\n",
            "Name: AgeGroup, Length: 28846, dtype: category\n",
            "Categories (3, object): ['young' < 'adult' < 'retiree']\n"
          ]
        }
      ]
    },
    {
      "cell_type": "markdown",
      "source": [
        "**12-13. Определите количество зарабатывающих >50K в каждой из возрастных групп (колонка AgeGroup), а также выведите название возрастной группы, в которой чаще зарабатывают больше 50К (>50K)**"
      ],
      "metadata": {
        "id": "3w0ttk9yucu9"
      }
    },
    {
      "cell_type": "code",
      "source": [
        "print(data[data[\"salary\"] == \">50K\"][\"AgeGroup\"].value_counts())"
      ],
      "metadata": {
        "colab": {
          "base_uri": "https://localhost:8080/"
        },
        "id": "DnAyKImPuhOU",
        "outputId": "f1122513-0d98-4e64-8ad2-80a652ba51c5"
      },
      "execution_count": 28,
      "outputs": [
        {
          "output_type": "stream",
          "name": "stdout",
          "text": [
            "adult      5322\n",
            "young      1506\n",
            "retiree      85\n",
            "Name: AgeGroup, dtype: int64\n"
          ]
        }
      ]
    },
    {
      "cell_type": "code",
      "source": [
        "richer_group_index = data[data[\"salary\"] == \">50K\"][\"AgeGroup\"].value_counts().argmax()\n",
        "print(data[data[\"salary\"] == \">50K\"][\"AgeGroup\"].value_counts().index[richer_group_index])"
      ],
      "metadata": {
        "colab": {
          "base_uri": "https://localhost:8080/"
        },
        "id": "_DRjghDB5QAe",
        "outputId": "0e09c4ba-bc23-4ce9-bdd6-bf66e02d9ad1"
      },
      "execution_count": 29,
      "outputs": [
        {
          "output_type": "stream",
          "name": "stdout",
          "text": [
            "adult\n"
          ]
        }
      ]
    },
    {
      "cell_type": "markdown",
      "source": [
        "**14. Сгруппируйте людей по типу занятости (колонка occupation) и определите количество людей в каждой группе. После чего напишите функциюю фильтрации filter_func, которая будет возвращать только те группы, в которых средний возраст (колонка age) не больше 40 и в которых все работники отрабатывают более 5 часов в неделю (колонка hours-per-week)**"
      ],
      "metadata": {
        "id": "LUh6iPns5SUH"
      }
    },
    {
      "cell_type": "code",
      "source": [
        "occupation_data = data[\"occupation\"]\n",
        "print(occupation_data.value_counts())"
      ],
      "metadata": {
        "colab": {
          "base_uri": "https://localhost:8080/"
        },
        "id": "gUSYqaR06180",
        "outputId": "45de4105-a61a-4ef1-dd9a-9e34d5c55936"
      },
      "execution_count": null,
      "outputs": [
        {
          "output_type": "stream",
          "name": "stdout",
          "text": [
            "Prof-specialty       4140\n",
            "Craft-repair         4099\n",
            "Exec-managerial      4066\n",
            "Adm-clerical         3770\n",
            "Sales                3650\n",
            "Other-service        3295\n",
            "Machine-op-inspct    2002\n",
            "?                    1843\n",
            "Transport-moving     1597\n",
            "Handlers-cleaners    1370\n",
            "Farming-fishing       994\n",
            "Tech-support          928\n",
            "Protective-serv       649\n",
            "Priv-house-serv       149\n",
            "Armed-Forces            9\n",
            "Name: occupation, dtype: int64\n"
          ]
        }
      ]
    },
    {
      "cell_type": "code",
      "source": [
        "def filter_func(data):\n",
        "    young_and_hardworking = []\n",
        "    for el in data[\"occupation\"].unique():\n",
        "        if data[data[\"occupation\"] == el][\"hours-per-week\"].min() > 5 \\\n",
        "        and data[data[\"occupation\"] == el][\"age\"].mean() <= 40:\n",
        "            young_and_hardworking.append(el)\n",
        "    return young_and_hardworking\n",
        "    \n",
        "print(filter_func(data))"
      ],
      "metadata": {
        "colab": {
          "base_uri": "https://localhost:8080/"
        },
        "id": "9uIQq4wT7y3E",
        "outputId": "9568db93-0efe-4483-a44a-0dee8255d683"
      },
      "execution_count": 37,
      "outputs": [
        {
          "output_type": "stream",
          "name": "stdout",
          "text": [
            "['Armed-Forces']\n"
          ]
        }
      ]
    }
  ]
}